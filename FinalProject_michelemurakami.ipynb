{
 "cells": [
  {
   "cell_type": "markdown",
   "metadata": {},
   "source": [
    "# COGS 108 - Final Project "
   ]
  },
  {
   "cell_type": "markdown",
   "metadata": {},
   "source": [
    "# Overview"
   ]
  },
  {
   "cell_type": "markdown",
   "metadata": {},
   "source": [
    "In this project, I intended to identify the relationship between yelp reviews and yelp ratings and health inspection scores. I looked at a dataset of restaurant health inspections and yelp reviews for restaurants located in North Carolina. From this analysis, I found a negative correlation, both between the number of yelp reviews and health inspection scores, and yelp ratings and health inspection scores. The data seems to suggest that higher yelp ratings are correlated with lower inspection scores and more yelp reviews are correlated with a lower inspection score."
   ]
  },
  {
   "cell_type": "markdown",
   "metadata": {},
   "source": [
    "# Name & GitHub\n",
    "\n",
    "- Name: Michele Murakami\n",
    "- GitHub Username: michelemurakami"
   ]
  },
  {
   "cell_type": "markdown",
   "metadata": {},
   "source": [
    "# Research Question"
   ]
  },
  {
   "cell_type": "markdown",
   "metadata": {},
   "source": [
    "What is the relationship between health inspection scores and yelp ratings and number of yelp reviews? For this data analysis, we will specifically be looking at restaurants in North Carolina."
   ]
  },
  {
   "cell_type": "markdown",
   "metadata": {},
   "source": [
    "## Background and Prior Work"
   ]
  },
  {
   "cell_type": "markdown",
   "metadata": {},
   "source": [
    "Restaurants are required to have routine, regular inspections to ensure they are complying with the state and local law to prevent food related illnesses. Although inspections and grading systems differ across different states and counties, they generally include a routine and unannounced inspections by specialists to ensure food is stored, handled, and distributed in sanitary conditions (1)(5). \n",
    "\n",
    "In North Carolina, restaurants are grades by points. A certain number of points are subtracted when the establishment has violated a section of the NC Food Code. Different violations have different point values, so more critical health violations are assigned higher point values. After points based on violations are subtracted from the 100 points possible, the restaurant is assigned a letter grade based on the percentage of the points remaining. A restaurant with a score of 90% or above receives an A, 80% or above recieves a B, and 70% or above recieves a C. Permits are revoked for scoring below 70% (3). \n",
    "\n",
    "But some view these health inspections as insufficient for checking restaurants' food serving conditions. With so many restaurants, and new ones popping up, health inspection might not occur as frequently as needed. As a result, people have considered online reviews as an addition to evaluating restaurant's hygiene. Yelp is a popular restaurant review site, where users are able to rate restaurants on a five star scale and write reviews in the comment secton. This creates a platform for users to be able to identify possible health code violations by writing a review or giving a restaurant a low star rating. A study looked at New York City restaurants' online yelp reviews and health inspections, and found that online reviews can help identify restaurants at risk for health code violations (4). Furthermore, other studies and data science projects have been conducted to analyze the relationship between health inspection data and yelp ratings. One research study(6) built a model from yelp data and health inspection records to predict restaurant inspections scores 82% of the time(2).\n",
    "\n",
    "\n",
    "References (include links):\n",
    "\n",
    "1)http://ncagr.gov/fooddrug/food/inspections.htm \n",
    "\n",
    "2)https://blog.yelp.com/2015/06/data-science-challenge-predict-restaurant-health-scores-with-yelp-data#:~:text=A%20research%20study%20by%20Professor,inspection%20scores%20for%20restaurants%2082\n",
    "\n",
    "3)https://ehs.ncpublichealth.com/faf/docs/foodprot/15A-NCAC-18A-2600-FINAL.pdf\n",
    "\n",
    "4)https://phys.org/news/2020-01-customer-health-good-hygiene-restaurants.html\n",
    "\n",
    "5)https://www.ncbi.nlm.nih.gov/pmc/articles/PMC3323064/#:~:text=Restaurants%20in%20the%20United%20States%20are%20regularly%20inspected%20by%20local,foodborne%20disease%E2%80%9D%20(4).\n",
    "\n",
    "6)https://homes.cs.washington.edu/~yejin/Papers/emnlp13_hygiene.pdf"
   ]
  },
  {
   "cell_type": "markdown",
   "metadata": {},
   "source": [
    "# Hypothesis\n"
   ]
  },
  {
   "cell_type": "markdown",
   "metadata": {},
   "source": [
    "I hypothesize that restaurants that have a higher yelp rating will have higher health inspection scores, but restaurants with more reviews will have a lower health inspection score. Restaurants that are cleaner and comply with their county's food safety policies are more likely to get returning constumer and more likely to have people rate their restaurant with 4 or 5 stars. Therefore, clean restaurants are probably less likely to get negative reviews related lack of cleanliness or reported cases of food poisoning. As a result, they might not have as many people reviewing their restaurant on yelp leading to high yelp ratings, but not as many customer reviews. On the other hand, restaurants that are unclean or have unsanitary work environments are probably going to get more negative reviews online from unhappy customers. "
   ]
  },
  {
   "cell_type": "markdown",
   "metadata": {},
   "source": [
    "# Dataset(s)"
   ]
  },
  {
   "cell_type": "markdown",
   "metadata": {},
   "source": [
    "The ideal dataset for yelp information would include information on a restaurants' yelp ratings, number of yelp reviews, and the list of reviews and comments. The ideal dataset for health inspection would include points assigned to the restaurant out of 100, the name of restaurant, the number of inspections, the date between their last inspection, the number of violations, the list of violations, the number of recorded customer complaints, the date restaurant opened, and previous scores recieved.\n",
    "\n",
    "And ideally we would want yelp data and health inspection data nationally, so we would be able to our analysis to the entire United States. We would also want information on how health inspections differ across counties and states, to be able to standardize the health inspection scores. However, due to the time constraints and limitations of this project, I am limiting my scope to restaurants in an area of North Carolina and the dataset provided. \n",
    "\n",
    "All three of the following datasets were provided by the instructor for the final project. Because of this, I have not provided a link for the dataset.\n",
    "\n",
    "Dataset 1:\n",
    "- Dataset Name: Yelp\n",
    "- Link to the dataset: no link dataset was provided \n",
    "- Number of observations: 3688 observations\n",
    "\n",
    "This dataset provides information on the yelp ratings and general information such as location and type of food served for restaurants in North Carolina.\n",
    "\n",
    "\n",
    "Dataset 2:\n",
    "- Dataset Name: Inspections\n",
    "- Link to the dataset: no link dataset was provided \n",
    "- Number of observations: 18466 observations\n",
    "\n",
    "This dataset provides information on health inspections conducted on restaurants in North Carolina.\n",
    "\n",
    "\n",
    "Dataset 3:\n",
    "- Dataset Name: Violations\n",
    "- Link to the dataset: no link dataset was provided \n",
    "- Number of observations: 189802 observations\n",
    "\n",
    "This dataset provides information and descriptions on the specific health code violations committed by restaurants in North Carolina.\n",
    "\n",
    "I plan to merge all three datasets into one dataframe sorted by hsisid and inspection date to show the relationship between the yelp ratings and health inspection information. Using hsisid and inspection dates, I'll group violations and match them with inspection data. Next, I'll use address and restaurant names to match the health inspection data with the yelp dataset."
   ]
  },
  {
   "cell_type": "markdown",
   "metadata": {},
   "source": [
    "# Setup"
   ]
  },
  {
   "cell_type": "code",
   "execution_count": 1,
   "metadata": {},
   "outputs": [
    {
     "name": "stdout",
     "output_type": "stream",
     "text": [
      "Requirement already satisfied: statsmodels in c:\\users\\murak\\anaconda3\\lib\\site-packages (0.10.1)\n",
      "Requirement already satisfied: numpy>=1.11 in c:\\users\\murak\\anaconda3\\lib\\site-packages (from statsmodels) (1.16.5)\n",
      "Requirement already satisfied: scipy>=0.18 in c:\\users\\murak\\anaconda3\\lib\\site-packages (from statsmodels) (1.3.1)\n",
      "Requirement already satisfied: pandas>=0.19 in c:\\users\\murak\\anaconda3\\lib\\site-packages (from statsmodels) (0.25.1)\n",
      "Requirement already satisfied: patsy>=0.4.0 in c:\\users\\murak\\anaconda3\\lib\\site-packages (from statsmodels) (0.5.1)\n",
      "Requirement already satisfied: python-dateutil>=2.6.1 in c:\\users\\murak\\anaconda3\\lib\\site-packages (from pandas>=0.19->statsmodels) (2.8.0)\n",
      "Requirement already satisfied: pytz>=2017.2 in c:\\users\\murak\\anaconda3\\lib\\site-packages (from pandas>=0.19->statsmodels) (2019.3)\n",
      "Requirement already satisfied: six in c:\\users\\murak\\anaconda3\\lib\\site-packages (from patsy>=0.4.0->statsmodels) (1.12.0)\n"
     ]
    }
   ],
   "source": [
    "!pip install statsmodels\n",
    "\n",
    "#import libraries needed for project\n",
    "%matplotlib inline\n",
    "\n",
    "import numpy as np\n",
    "import pandas as pd\n",
    "\n",
    "import matplotlib.pyplot as plt\n",
    "import matplotlib as mpl\n",
    "\n",
    "import seaborn as sns\n",
    "\n",
    "import patsy\n",
    "import statsmodels.api as sm\n",
    "\n",
    "#ignore warnings\n",
    "import warnings\n",
    "warnings.filterwarnings('ignore')\n",
    "\n",
    "from scipy.stats import skewnorm"
   ]
  },
  {
   "cell_type": "markdown",
   "metadata": {},
   "source": [
    "# Data Cleaning"
   ]
  },
  {
   "cell_type": "markdown",
   "metadata": {},
   "source": [
    "Remove columns not needed for analysis and merge datasets to make it easier to analyze"
   ]
  },
  {
   "cell_type": "code",
   "execution_count": 2,
   "metadata": {},
   "outputs": [],
   "source": [
    "#loads the datasets used for analysis\n",
    "inspect_df = pd.read_csv('data/inspections.csv')\n",
    "violation_df = pd.read_csv('data/violations.csv')\n",
    "yelp_df = pd.read_csv('data/yelp.csv')"
   ]
  },
  {
   "cell_type": "markdown",
   "metadata": {},
   "source": [
    "### Cutting Down Data\n",
    "\n",
    "To make the dataset more manageable I dropped the columns with information I won't be using. For the violation and inspection datasets, I dropped data  identifying inspectors. In the inspection and violation dataset, I had to drop some of the columns because I didn't understand what they were for. This is another limitation of this analysis because they could have potentially been applicable for this project. "
   ]
  },
  {
   "cell_type": "code",
   "execution_count": 3,
   "metadata": {},
   "outputs": [],
   "source": [
    "yelp_df = yelp_df.drop([\"id\", \"is_closed\", \"latitude\", \"longitude\", \n",
    "              \"phone\", \"price\", \"hotdogs\", \"sandwiches\", \"pizza\", \n",
    "              \"tradamerican\", \"burgers\", \"mexican\", \n",
    "              \"grocery\", \"breakfast_brunch\", \"coffee\",\n",
    "              \"chinese\", \"italian\", \"newamerican\", \n",
    "              \"chicken_wings\", \"delis\", \"bars\", \"salad\", \n",
    "              \"seafood\", \"bbq\", \"bakeries\", \"sushi\"], axis=1)"
   ]
  },
  {
   "cell_type": "code",
   "execution_count": 4,
   "metadata": {
    "scrolled": true
   },
   "outputs": [],
   "source": [
    "inspect_df = inspect_df.drop([\"address2\", \"city\", \"phonenumber\", \"postalcode\", \n",
    "                 \"x\", \"y\", \"type\", \"inspectedby\", \n",
    "                 \"inspector_id\", \"geocodestatus\", \"inspection_num\", \n",
    "                 \"num_non_critical\", \"num_critical_previous\", \n",
    "                 \"num_non_critical_previous\", \n",
    "                 \"num_critical_mean_previous\", \n",
    "                 \"num_non_critical_mean_previous\", \n",
    "                 \"avg_neighbor_num_critical\", \n",
    "                 \"avg_neighbor_num_non_critical\", \"top_match\", \n",
    "                 \"second_match\", \"facilitytype\", \"state\", \n",
    "                 \"previous_inspection_by_same_inspector\", \n",
    "                 \"num_critical\", \"critical\", \"restaurantopendate\",\n",
    "                 \"previous_inspection_date\", \n",
    "                 \"days_since_previous_inspection\",\n",
    "                 \"description\"], axis=1)"
   ]
  },
  {
   "cell_type": "code",
   "execution_count": 5,
   "metadata": {},
   "outputs": [],
   "source": [
    "violation_df = violation_df.drop([\"X.objectid\", \"questionno\", \n",
    "                   \"inspectedby\", \"observationtype\",\n",
    "                   \"count\", \"violationtype\",\n",
    "                   \"statecode\", \"cdcriskfactor\",\n",
    "                   \"cdcdataitem\"], axis=1)"
   ]
  },
  {
   "cell_type": "markdown",
   "metadata": {},
   "source": [
    "### Merging Dataframes\n",
    "After dropping the columns that were not needed for the analysis I edited the inspection dataset and violations dataset to allow me to merge the two dataset. I renamed the merged dataset that resulted from the two datasets to health_df."
   ]
  },
  {
   "cell_type": "code",
   "execution_count": 6,
   "metadata": {},
   "outputs": [
    {
     "data": {
      "text/html": [
       "<div>\n",
       "<style scoped>\n",
       "    .dataframe tbody tr th:only-of-type {\n",
       "        vertical-align: middle;\n",
       "    }\n",
       "\n",
       "    .dataframe tbody tr th {\n",
       "        vertical-align: top;\n",
       "    }\n",
       "\n",
       "    .dataframe thead th {\n",
       "        text-align: right;\n",
       "    }\n",
       "</style>\n",
       "<table border=\"1\" class=\"dataframe\">\n",
       "  <thead>\n",
       "    <tr style=\"text-align: right;\">\n",
       "      <th></th>\n",
       "      <th>hsisid</th>\n",
       "      <th>inspectdate</th>\n",
       "      <th>name</th>\n",
       "      <th>address1</th>\n",
       "      <th>days_from_open_date</th>\n",
       "      <th>zip</th>\n",
       "      <th>score</th>\n",
       "      <th>category</th>\n",
       "      <th>critical</th>\n",
       "      <th>violationcode</th>\n",
       "      <th>severity</th>\n",
       "      <th>shortdesc</th>\n",
       "      <th>comments</th>\n",
       "      <th>pointvalue</th>\n",
       "    </tr>\n",
       "  </thead>\n",
       "  <tbody>\n",
       "    <tr>\n",
       "      <td>0</td>\n",
       "      <td>4092013748</td>\n",
       "      <td>2012-09-21</td>\n",
       "      <td>Cafe 3000 At Wake Med</td>\n",
       "      <td>3000 New Bern Ave</td>\n",
       "      <td>3562</td>\n",
       "      <td>27610</td>\n",
       "      <td>96.0</td>\n",
       "      <td>Conformance with Approved Procedures</td>\n",
       "      <td>No</td>\n",
       "      <td>8-201.13</td>\n",
       "      <td>Core</td>\n",
       "      <td>Compliance with variance, specialized process,...</td>\n",
       "      <td>Raw fish is used for sushi (sushi chef not pre...</td>\n",
       "      <td>0</td>\n",
       "    </tr>\n",
       "    <tr>\n",
       "      <td>1</td>\n",
       "      <td>4092013748</td>\n",
       "      <td>2012-09-21</td>\n",
       "      <td>Cafe 3000 At Wake Med</td>\n",
       "      <td>3000 New Bern Ave</td>\n",
       "      <td>3562</td>\n",
       "      <td>27610</td>\n",
       "      <td>96.0</td>\n",
       "      <td>Employee Health</td>\n",
       "      <td>Yes</td>\n",
       "      <td>2-201.11(A)</td>\n",
       "      <td>Priority</td>\n",
       "      <td>Management, employees knowledge; responsibilit...</td>\n",
       "      <td>Employee health policy may not include require...</td>\n",
       "      <td>0</td>\n",
       "    </tr>\n",
       "    <tr>\n",
       "      <td>2</td>\n",
       "      <td>4092013748</td>\n",
       "      <td>2012-09-21</td>\n",
       "      <td>Cafe 3000 At Wake Med</td>\n",
       "      <td>3000 New Bern Ave</td>\n",
       "      <td>3562</td>\n",
       "      <td>27610</td>\n",
       "      <td>96.0</td>\n",
       "      <td>Physical Facilities</td>\n",
       "      <td>NaN</td>\n",
       "      <td>5-203.14</td>\n",
       "      <td>NaN</td>\n",
       "      <td>Plumbing installed; proper backflow devices</td>\n",
       "      <td>Spray nozzle hangs below flood rim of prewash ...</td>\n",
       "      <td>0</td>\n",
       "    </tr>\n",
       "    <tr>\n",
       "      <td>3</td>\n",
       "      <td>4092013748</td>\n",
       "      <td>2012-09-21</td>\n",
       "      <td>Cafe 3000 At Wake Med</td>\n",
       "      <td>3000 New Bern Ave</td>\n",
       "      <td>3562</td>\n",
       "      <td>27610</td>\n",
       "      <td>96.0</td>\n",
       "      <td>Potentially Hazardous Food Time/Temperature</td>\n",
       "      <td>Yes</td>\n",
       "      <td>3-501.16(A)(1)</td>\n",
       "      <td>Priority</td>\n",
       "      <td>Proper hot holding temperatures</td>\n",
       "      <td>Potentially hazardous foods on hot bar were no...</td>\n",
       "      <td>1</td>\n",
       "    </tr>\n",
       "    <tr>\n",
       "      <td>4</td>\n",
       "      <td>4092013748</td>\n",
       "      <td>2012-09-21</td>\n",
       "      <td>Cafe 3000 At Wake Med</td>\n",
       "      <td>3000 New Bern Ave</td>\n",
       "      <td>3562</td>\n",
       "      <td>27610</td>\n",
       "      <td>96.0</td>\n",
       "      <td>Potentially Hazardous Food Time/Temperature</td>\n",
       "      <td>Yes</td>\n",
       "      <td>3-501.16(A)(2)(B)</td>\n",
       "      <td>Priority</td>\n",
       "      <td>Proper cold holding temperatures</td>\n",
       "      <td>Potentially hazardous foods on salad bar and G...</td>\n",
       "      <td>1</td>\n",
       "    </tr>\n",
       "    <tr>\n",
       "      <td>...</td>\n",
       "      <td>...</td>\n",
       "      <td>...</td>\n",
       "      <td>...</td>\n",
       "      <td>...</td>\n",
       "      <td>...</td>\n",
       "      <td>...</td>\n",
       "      <td>...</td>\n",
       "      <td>...</td>\n",
       "      <td>...</td>\n",
       "      <td>...</td>\n",
       "      <td>...</td>\n",
       "      <td>...</td>\n",
       "      <td>...</td>\n",
       "      <td>...</td>\n",
       "    </tr>\n",
       "    <tr>\n",
       "      <td>149503</td>\n",
       "      <td>4092300225</td>\n",
       "      <td>2016-11-03</td>\n",
       "      <td>LA CAMPANA MARKET</td>\n",
       "      <td>1701 N ARENDELL AVE</td>\n",
       "      <td>4235</td>\n",
       "      <td>27597</td>\n",
       "      <td>93.0</td>\n",
       "      <td>Protection from Contamination</td>\n",
       "      <td>Yes</td>\n",
       "      <td>4-501.114</td>\n",
       "      <td>Priority</td>\n",
       "      <td>Food-contact surfaces: cleaned &amp; sanitized</td>\n",
       "      <td>4-501.114; Priority; Sanitizer was not made up...</td>\n",
       "      <td>1</td>\n",
       "    </tr>\n",
       "    <tr>\n",
       "      <td>149504</td>\n",
       "      <td>4092300225</td>\n",
       "      <td>2016-11-03</td>\n",
       "      <td>LA CAMPANA MARKET</td>\n",
       "      <td>1701 N ARENDELL AVE</td>\n",
       "      <td>4235</td>\n",
       "      <td>27597</td>\n",
       "      <td>93.0</td>\n",
       "      <td>Supervision</td>\n",
       "      <td>No</td>\n",
       "      <td>2-102.12</td>\n",
       "      <td>Core</td>\n",
       "      <td>PIC present, Demonstration - Certification by ...</td>\n",
       "      <td>2-102.12; Core; The manager on duty did not ha...</td>\n",
       "      <td>2</td>\n",
       "    </tr>\n",
       "    <tr>\n",
       "      <td>149505</td>\n",
       "      <td>4092300225</td>\n",
       "      <td>2016-11-03</td>\n",
       "      <td>LA CAMPANA MARKET</td>\n",
       "      <td>1701 N ARENDELL AVE</td>\n",
       "      <td>4235</td>\n",
       "      <td>27597</td>\n",
       "      <td>93.0</td>\n",
       "      <td>Utensils and Equipment</td>\n",
       "      <td>No</td>\n",
       "      <td>4-601.11(B)(C)</td>\n",
       "      <td>Core</td>\n",
       "      <td>Non-food contact surfaces clean</td>\n",
       "      <td>4-601.11(B) and (C); Core; Old food debris was...</td>\n",
       "      <td>0</td>\n",
       "    </tr>\n",
       "    <tr>\n",
       "      <td>149506</td>\n",
       "      <td>4092300225</td>\n",
       "      <td>2016-11-03</td>\n",
       "      <td>LA CAMPANA MARKET</td>\n",
       "      <td>1701 N ARENDELL AVE</td>\n",
       "      <td>4235</td>\n",
       "      <td>27597</td>\n",
       "      <td>93.0</td>\n",
       "      <td>Utensils and Equipment</td>\n",
       "      <td>No</td>\n",
       "      <td>4-501.12</td>\n",
       "      <td>Core</td>\n",
       "      <td>Equipment, food &amp; non-food-contact surfaces ap...</td>\n",
       "      <td>4-501.12; Core; Cutting boards shall be resurf...</td>\n",
       "      <td>0</td>\n",
       "    </tr>\n",
       "    <tr>\n",
       "      <td>149507</td>\n",
       "      <td>4092300225</td>\n",
       "      <td>2016-11-03</td>\n",
       "      <td>LA CAMPANA MARKET</td>\n",
       "      <td>1701 N ARENDELL AVE</td>\n",
       "      <td>4235</td>\n",
       "      <td>27597</td>\n",
       "      <td>93.0</td>\n",
       "      <td>Utensils and Equipment</td>\n",
       "      <td>No</td>\n",
       "      <td>4-501.11</td>\n",
       "      <td>Core</td>\n",
       "      <td>Equipment, food &amp; non-food-contact surfaces ap...</td>\n",
       "      <td>4-501.11; Core; Glass freezer flooring contain...</td>\n",
       "      <td>1</td>\n",
       "    </tr>\n",
       "  </tbody>\n",
       "</table>\n",
       "<p>149508 rows × 14 columns</p>\n",
       "</div>"
      ],
      "text/plain": [
       "            hsisid inspectdate                   name             address1  \\\n",
       "0       4092013748  2012-09-21  Cafe 3000 At Wake Med    3000 New Bern Ave   \n",
       "1       4092013748  2012-09-21  Cafe 3000 At Wake Med    3000 New Bern Ave   \n",
       "2       4092013748  2012-09-21  Cafe 3000 At Wake Med    3000 New Bern Ave   \n",
       "3       4092013748  2012-09-21  Cafe 3000 At Wake Med    3000 New Bern Ave   \n",
       "4       4092013748  2012-09-21  Cafe 3000 At Wake Med    3000 New Bern Ave   \n",
       "...            ...         ...                    ...                  ...   \n",
       "149503  4092300225  2016-11-03      LA CAMPANA MARKET  1701 N ARENDELL AVE   \n",
       "149504  4092300225  2016-11-03      LA CAMPANA MARKET  1701 N ARENDELL AVE   \n",
       "149505  4092300225  2016-11-03      LA CAMPANA MARKET  1701 N ARENDELL AVE   \n",
       "149506  4092300225  2016-11-03      LA CAMPANA MARKET  1701 N ARENDELL AVE   \n",
       "149507  4092300225  2016-11-03      LA CAMPANA MARKET  1701 N ARENDELL AVE   \n",
       "\n",
       "        days_from_open_date    zip  score  \\\n",
       "0                      3562  27610   96.0   \n",
       "1                      3562  27610   96.0   \n",
       "2                      3562  27610   96.0   \n",
       "3                      3562  27610   96.0   \n",
       "4                      3562  27610   96.0   \n",
       "...                     ...    ...    ...   \n",
       "149503                 4235  27597   93.0   \n",
       "149504                 4235  27597   93.0   \n",
       "149505                 4235  27597   93.0   \n",
       "149506                 4235  27597   93.0   \n",
       "149507                 4235  27597   93.0   \n",
       "\n",
       "                                           category critical  \\\n",
       "0              Conformance with Approved Procedures       No   \n",
       "1                                   Employee Health      Yes   \n",
       "2                               Physical Facilities      NaN   \n",
       "3       Potentially Hazardous Food Time/Temperature      Yes   \n",
       "4       Potentially Hazardous Food Time/Temperature      Yes   \n",
       "...                                             ...      ...   \n",
       "149503                Protection from Contamination      Yes   \n",
       "149504                                  Supervision       No   \n",
       "149505                       Utensils and Equipment       No   \n",
       "149506                       Utensils and Equipment       No   \n",
       "149507                       Utensils and Equipment       No   \n",
       "\n",
       "            violationcode  severity  \\\n",
       "0                8-201.13      Core   \n",
       "1             2-201.11(A)  Priority   \n",
       "2                5-203.14       NaN   \n",
       "3          3-501.16(A)(1)  Priority   \n",
       "4       3-501.16(A)(2)(B)  Priority   \n",
       "...                   ...       ...   \n",
       "149503          4-501.114  Priority   \n",
       "149504           2-102.12      Core   \n",
       "149505     4-601.11(B)(C)      Core   \n",
       "149506           4-501.12      Core   \n",
       "149507           4-501.11      Core   \n",
       "\n",
       "                                                shortdesc  \\\n",
       "0       Compliance with variance, specialized process,...   \n",
       "1       Management, employees knowledge; responsibilit...   \n",
       "2             Plumbing installed; proper backflow devices   \n",
       "3                         Proper hot holding temperatures   \n",
       "4                        Proper cold holding temperatures   \n",
       "...                                                   ...   \n",
       "149503         Food-contact surfaces: cleaned & sanitized   \n",
       "149504  PIC present, Demonstration - Certification by ...   \n",
       "149505                    Non-food contact surfaces clean   \n",
       "149506  Equipment, food & non-food-contact surfaces ap...   \n",
       "149507  Equipment, food & non-food-contact surfaces ap...   \n",
       "\n",
       "                                                 comments  pointvalue  \n",
       "0       Raw fish is used for sushi (sushi chef not pre...           0  \n",
       "1       Employee health policy may not include require...           0  \n",
       "2       Spray nozzle hangs below flood rim of prewash ...           0  \n",
       "3       Potentially hazardous foods on hot bar were no...           1  \n",
       "4       Potentially hazardous foods on salad bar and G...           1  \n",
       "...                                                   ...         ...  \n",
       "149503  4-501.114; Priority; Sanitizer was not made up...           1  \n",
       "149504  2-102.12; Core; The manager on duty did not ha...           2  \n",
       "149505  4-601.11(B) and (C); Core; Old food debris was...           0  \n",
       "149506  4-501.12; Core; Cutting boards shall be resurf...           0  \n",
       "149507  4-501.11; Core; Glass freezer flooring contain...           1  \n",
       "\n",
       "[149508 rows x 14 columns]"
      ]
     },
     "execution_count": 6,
     "metadata": {},
     "output_type": "execute_result"
    }
   ],
   "source": [
    "#rename date column to enable merge\n",
    "inspect_df.rename(columns={'date':'inspectdate'}, inplace=True)\n",
    "\n",
    "#edit inspect date to exclude unnecessary information\n",
    "violation_df['inspectdate'] = violation_df['inspectdate'].str.replace('T00:00:00.000Z', '')\n",
    "inspect_df['inspectdate'] = inspect_df['inspectdate'].str.replace('T00:00:00Z', '')\n",
    "\n",
    "#merge inspection dataset and violation dataset based on hsisid and inspectdate into one dataset\n",
    "health_df = pd.merge(inspect_df, violation_df, on=[\"hsisid\", \"inspectdate\"])\n",
    "\n",
    "health_df"
   ]
  },
  {
   "cell_type": "markdown",
   "metadata": {},
   "source": [
    "After creating the dataframe that includes both the violation dataset and inspection dataset, I merged the health_df with the yelp dataset, so I can more easily compare health inspections data to yelp ratings."
   ]
  },
  {
   "cell_type": "code",
   "execution_count": 7,
   "metadata": {},
   "outputs": [
    {
     "data": {
      "text/html": [
       "<div>\n",
       "<style scoped>\n",
       "    .dataframe tbody tr th:only-of-type {\n",
       "        vertical-align: middle;\n",
       "    }\n",
       "\n",
       "    .dataframe tbody tr th {\n",
       "        vertical-align: top;\n",
       "    }\n",
       "\n",
       "    .dataframe thead th {\n",
       "        text-align: right;\n",
       "    }\n",
       "</style>\n",
       "<table border=\"1\" class=\"dataframe\">\n",
       "  <thead>\n",
       "    <tr style=\"text-align: right;\">\n",
       "      <th></th>\n",
       "      <th>hsisid</th>\n",
       "      <th>inspectdate</th>\n",
       "      <th>name_x</th>\n",
       "      <th>address1</th>\n",
       "      <th>days_from_open_date</th>\n",
       "      <th>zip_code</th>\n",
       "      <th>score</th>\n",
       "      <th>category</th>\n",
       "      <th>critical</th>\n",
       "      <th>violationcode</th>\n",
       "      <th>severity</th>\n",
       "      <th>shortdesc</th>\n",
       "      <th>comments</th>\n",
       "      <th>pointvalue</th>\n",
       "      <th>name_y</th>\n",
       "      <th>rating</th>\n",
       "      <th>review_count</th>\n",
       "    </tr>\n",
       "  </thead>\n",
       "  <tbody>\n",
       "    <tr>\n",
       "      <td>0</td>\n",
       "      <td>4092300210</td>\n",
       "      <td>2012-09-25</td>\n",
       "      <td>International Foods</td>\n",
       "      <td>2215 New Hope Church Rd</td>\n",
       "      <td>3659</td>\n",
       "      <td>27604</td>\n",
       "      <td>97.5</td>\n",
       "      <td>Physical Facilities</td>\n",
       "      <td>No</td>\n",
       "      <td>6-202.11</td>\n",
       "      <td>Core</td>\n",
       "      <td>Meets ventilation &amp; lighting  requirements; de...</td>\n",
       "      <td>The light bulbs in the glass front display ref...</td>\n",
       "      <td>0</td>\n",
       "      <td>international foods</td>\n",
       "      <td>3.5</td>\n",
       "      <td>6</td>\n",
       "    </tr>\n",
       "    <tr>\n",
       "      <td>1</td>\n",
       "      <td>4092300210</td>\n",
       "      <td>2012-09-25</td>\n",
       "      <td>International Foods</td>\n",
       "      <td>2215 New Hope Church Rd</td>\n",
       "      <td>3659</td>\n",
       "      <td>27604</td>\n",
       "      <td>97.5</td>\n",
       "      <td>Proper Use of Utensils</td>\n",
       "      <td>No</td>\n",
       "      <td>4-903.11(A)(B)</td>\n",
       "      <td>Core</td>\n",
       "      <td>Utensils, equipment &amp; linens: properly stored,...</td>\n",
       "      <td>Knife racks and hangers being used to store cl...</td>\n",
       "      <td>0</td>\n",
       "      <td>international foods</td>\n",
       "      <td>3.5</td>\n",
       "      <td>6</td>\n",
       "    </tr>\n",
       "    <tr>\n",
       "      <td>2</td>\n",
       "      <td>4092300210</td>\n",
       "      <td>2012-09-25</td>\n",
       "      <td>International Foods</td>\n",
       "      <td>2215 New Hope Church Rd</td>\n",
       "      <td>3659</td>\n",
       "      <td>27604</td>\n",
       "      <td>97.5</td>\n",
       "      <td>Employee Health</td>\n",
       "      <td>NaN</td>\n",
       "      <td>2-201.11(A),(B),(C), (E)</td>\n",
       "      <td>NaN</td>\n",
       "      <td>Management, employees knowledge; responsibilit...</td>\n",
       "      <td>Approved employee health plan was not used. *N...</td>\n",
       "      <td>0</td>\n",
       "      <td>international foods</td>\n",
       "      <td>3.5</td>\n",
       "      <td>6</td>\n",
       "    </tr>\n",
       "    <tr>\n",
       "      <td>3</td>\n",
       "      <td>4092300210</td>\n",
       "      <td>2012-09-25</td>\n",
       "      <td>International Foods</td>\n",
       "      <td>2215 New Hope Church Rd</td>\n",
       "      <td>3659</td>\n",
       "      <td>27604</td>\n",
       "      <td>97.5</td>\n",
       "      <td>Utensils and Equipment</td>\n",
       "      <td>No</td>\n",
       "      <td>4-205.10</td>\n",
       "      <td>Core</td>\n",
       "      <td>Equipment, food &amp; non-food-contact surfaces ap...</td>\n",
       "      <td>The plastic milk crates that were being used a...</td>\n",
       "      <td>0</td>\n",
       "      <td>international foods</td>\n",
       "      <td>3.5</td>\n",
       "      <td>6</td>\n",
       "    </tr>\n",
       "    <tr>\n",
       "      <td>4</td>\n",
       "      <td>4092300210</td>\n",
       "      <td>2012-09-25</td>\n",
       "      <td>International Foods</td>\n",
       "      <td>2215 New Hope Church Rd</td>\n",
       "      <td>3659</td>\n",
       "      <td>27604</td>\n",
       "      <td>97.5</td>\n",
       "      <td>Prevention of Food Contamination</td>\n",
       "      <td>No</td>\n",
       "      <td>3-304.14</td>\n",
       "      <td>Core</td>\n",
       "      <td>Wiping cloths: properly used &amp; stored</td>\n",
       "      <td>Wiping cloths were stored on prep tables betwe...</td>\n",
       "      <td>0</td>\n",
       "      <td>international foods</td>\n",
       "      <td>3.5</td>\n",
       "      <td>6</td>\n",
       "    </tr>\n",
       "    <tr>\n",
       "      <td>...</td>\n",
       "      <td>...</td>\n",
       "      <td>...</td>\n",
       "      <td>...</td>\n",
       "      <td>...</td>\n",
       "      <td>...</td>\n",
       "      <td>...</td>\n",
       "      <td>...</td>\n",
       "      <td>...</td>\n",
       "      <td>...</td>\n",
       "      <td>...</td>\n",
       "      <td>...</td>\n",
       "      <td>...</td>\n",
       "      <td>...</td>\n",
       "      <td>...</td>\n",
       "      <td>...</td>\n",
       "      <td>...</td>\n",
       "      <td>...</td>\n",
       "    </tr>\n",
       "    <tr>\n",
       "      <td>18984</td>\n",
       "      <td>4092016715</td>\n",
       "      <td>2015-08-07</td>\n",
       "      <td>Spring Hill Suites Kitchen</td>\n",
       "      <td>1128 Ledsome Lane</td>\n",
       "      <td>392</td>\n",
       "      <td>27511</td>\n",
       "      <td>97.5</td>\n",
       "      <td>Prevention of Food Contamination</td>\n",
       "      <td>Yes</td>\n",
       "      <td>3-306.11</td>\n",
       "      <td>Priority</td>\n",
       "      <td>Contamination prevented during food preparatio...</td>\n",
       "      <td>3-306.11; The condiments for the oat meal  and...</td>\n",
       "      <td>1</td>\n",
       "      <td>springhill suites raleigh cary</td>\n",
       "      <td>4.0</td>\n",
       "      <td>10</td>\n",
       "    </tr>\n",
       "    <tr>\n",
       "      <td>18985</td>\n",
       "      <td>4092016715</td>\n",
       "      <td>2015-08-07</td>\n",
       "      <td>Spring Hill Suites Kitchen</td>\n",
       "      <td>1128 Ledsome Lane</td>\n",
       "      <td>392</td>\n",
       "      <td>27511</td>\n",
       "      <td>97.5</td>\n",
       "      <td>Proper Use of Utensils</td>\n",
       "      <td>No</td>\n",
       "      <td>4-904.11</td>\n",
       "      <td>Core</td>\n",
       "      <td>Utensils, equipment &amp; linens: properly stored,...</td>\n",
       "      <td>4-904.11; The cups should be in a dispenser so...</td>\n",
       "      <td>0</td>\n",
       "      <td>springhill suites raleigh cary</td>\n",
       "      <td>4.0</td>\n",
       "      <td>10</td>\n",
       "    </tr>\n",
       "    <tr>\n",
       "      <td>18986</td>\n",
       "      <td>4092016715</td>\n",
       "      <td>2015-08-07</td>\n",
       "      <td>Spring Hill Suites Kitchen</td>\n",
       "      <td>1128 Ledsome Lane</td>\n",
       "      <td>392</td>\n",
       "      <td>27511</td>\n",
       "      <td>97.5</td>\n",
       "      <td>Good Hygienic Practices</td>\n",
       "      <td>No</td>\n",
       "      <td>2-401.11</td>\n",
       "      <td>Core</td>\n",
       "      <td>Proper eating, tasting, drinking, or tobacco use</td>\n",
       "      <td>2-401.11 (B)There were two coffee cups on the ...</td>\n",
       "      <td>1</td>\n",
       "      <td>springhill suites raleigh cary</td>\n",
       "      <td>4.0</td>\n",
       "      <td>10</td>\n",
       "    </tr>\n",
       "    <tr>\n",
       "      <td>18987</td>\n",
       "      <td>4092016715</td>\n",
       "      <td>2016-04-22</td>\n",
       "      <td>Spring Hill Suites Kitchen</td>\n",
       "      <td>1128 Ledsome Lane</td>\n",
       "      <td>651</td>\n",
       "      <td>27511</td>\n",
       "      <td>98.5</td>\n",
       "      <td>Prevention of Food Contamination</td>\n",
       "      <td>Yes</td>\n",
       "      <td>3-306.11</td>\n",
       "      <td>Priority</td>\n",
       "      <td>Contamination prevented during food preparatio...</td>\n",
       "      <td>3-306.11; The condiments for the oat meal and...</td>\n",
       "      <td>1</td>\n",
       "      <td>springhill suites raleigh cary</td>\n",
       "      <td>4.0</td>\n",
       "      <td>10</td>\n",
       "    </tr>\n",
       "    <tr>\n",
       "      <td>18988</td>\n",
       "      <td>4092016715</td>\n",
       "      <td>2016-04-22</td>\n",
       "      <td>Spring Hill Suites Kitchen</td>\n",
       "      <td>1128 Ledsome Lane</td>\n",
       "      <td>651</td>\n",
       "      <td>27511</td>\n",
       "      <td>98.5</td>\n",
       "      <td>Proper Use of Utensils</td>\n",
       "      <td>No</td>\n",
       "      <td>4-904.11</td>\n",
       "      <td>Core</td>\n",
       "      <td>Utensils, equipment &amp; linens: properly stored,...</td>\n",
       "      <td>4-904.11; The cups should be in a dispenser s...</td>\n",
       "      <td>0</td>\n",
       "      <td>springhill suites raleigh cary</td>\n",
       "      <td>4.0</td>\n",
       "      <td>10</td>\n",
       "    </tr>\n",
       "  </tbody>\n",
       "</table>\n",
       "<p>18989 rows × 17 columns</p>\n",
       "</div>"
      ],
      "text/plain": [
       "           hsisid inspectdate                      name_x  \\\n",
       "0      4092300210  2012-09-25         International Foods   \n",
       "1      4092300210  2012-09-25         International Foods   \n",
       "2      4092300210  2012-09-25         International Foods   \n",
       "3      4092300210  2012-09-25         International Foods   \n",
       "4      4092300210  2012-09-25         International Foods   \n",
       "...           ...         ...                         ...   \n",
       "18984  4092016715  2015-08-07  Spring Hill Suites Kitchen   \n",
       "18985  4092016715  2015-08-07  Spring Hill Suites Kitchen   \n",
       "18986  4092016715  2015-08-07  Spring Hill Suites Kitchen   \n",
       "18987  4092016715  2016-04-22  Spring Hill Suites Kitchen   \n",
       "18988  4092016715  2016-04-22  Spring Hill Suites Kitchen   \n",
       "\n",
       "                      address1  days_from_open_date  zip_code  score  \\\n",
       "0      2215 New Hope Church Rd                 3659     27604   97.5   \n",
       "1      2215 New Hope Church Rd                 3659     27604   97.5   \n",
       "2      2215 New Hope Church Rd                 3659     27604   97.5   \n",
       "3      2215 New Hope Church Rd                 3659     27604   97.5   \n",
       "4      2215 New Hope Church Rd                 3659     27604   97.5   \n",
       "...                        ...                  ...       ...    ...   \n",
       "18984        1128 Ledsome Lane                  392     27511   97.5   \n",
       "18985        1128 Ledsome Lane                  392     27511   97.5   \n",
       "18986        1128 Ledsome Lane                  392     27511   97.5   \n",
       "18987        1128 Ledsome Lane                  651     27511   98.5   \n",
       "18988        1128 Ledsome Lane                  651     27511   98.5   \n",
       "\n",
       "                               category critical             violationcode  \\\n",
       "0                   Physical Facilities       No                  6-202.11   \n",
       "1                Proper Use of Utensils       No            4-903.11(A)(B)   \n",
       "2                       Employee Health      NaN  2-201.11(A),(B),(C), (E)   \n",
       "3                Utensils and Equipment       No                  4-205.10   \n",
       "4      Prevention of Food Contamination       No                  3-304.14   \n",
       "...                                 ...      ...                       ...   \n",
       "18984  Prevention of Food Contamination      Yes                  3-306.11   \n",
       "18985            Proper Use of Utensils       No                  4-904.11   \n",
       "18986           Good Hygienic Practices       No                  2-401.11   \n",
       "18987  Prevention of Food Contamination      Yes                  3-306.11   \n",
       "18988            Proper Use of Utensils       No                  4-904.11   \n",
       "\n",
       "       severity                                          shortdesc  \\\n",
       "0          Core  Meets ventilation & lighting  requirements; de...   \n",
       "1          Core  Utensils, equipment & linens: properly stored,...   \n",
       "2           NaN  Management, employees knowledge; responsibilit...   \n",
       "3          Core  Equipment, food & non-food-contact surfaces ap...   \n",
       "4          Core              Wiping cloths: properly used & stored   \n",
       "...         ...                                                ...   \n",
       "18984  Priority  Contamination prevented during food preparatio...   \n",
       "18985      Core  Utensils, equipment & linens: properly stored,...   \n",
       "18986      Core   Proper eating, tasting, drinking, or tobacco use   \n",
       "18987  Priority  Contamination prevented during food preparatio...   \n",
       "18988      Core  Utensils, equipment & linens: properly stored,...   \n",
       "\n",
       "                                                comments  pointvalue  \\\n",
       "0      The light bulbs in the glass front display ref...           0   \n",
       "1      Knife racks and hangers being used to store cl...           0   \n",
       "2      Approved employee health plan was not used. *N...           0   \n",
       "3      The plastic milk crates that were being used a...           0   \n",
       "4      Wiping cloths were stored on prep tables betwe...           0   \n",
       "...                                                  ...         ...   \n",
       "18984  3-306.11; The condiments for the oat meal  and...           1   \n",
       "18985  4-904.11; The cups should be in a dispenser so...           0   \n",
       "18986  2-401.11 (B)There were two coffee cups on the ...           1   \n",
       "18987   3-306.11; The condiments for the oat meal and...           1   \n",
       "18988   4-904.11; The cups should be in a dispenser s...           0   \n",
       "\n",
       "                               name_y  rating  review_count  \n",
       "0                 international foods     3.5             6  \n",
       "1                 international foods     3.5             6  \n",
       "2                 international foods     3.5             6  \n",
       "3                 international foods     3.5             6  \n",
       "4                 international foods     3.5             6  \n",
       "...                               ...     ...           ...  \n",
       "18984  springhill suites raleigh cary     4.0            10  \n",
       "18985  springhill suites raleigh cary     4.0            10  \n",
       "18986  springhill suites raleigh cary     4.0            10  \n",
       "18987  springhill suites raleigh cary     4.0            10  \n",
       "18988  springhill suites raleigh cary     4.0            10  \n",
       "\n",
       "[18989 rows x 17 columns]"
      ]
     },
     "execution_count": 7,
     "metadata": {},
     "output_type": "execute_result"
    }
   ],
   "source": [
    "#rename zipcode column to enable merge\n",
    "health_df.rename(columns={'zip':'zip_code'}, inplace=True)\n",
    "\n",
    "#create dataframe that has information about health inspections and yelp reviews\n",
    "all_df = pd.merge(health_df, yelp_df, on=[\"address1\", \"zip_code\"])\n",
    "\n",
    "all_df"
   ]
  },
  {
   "cell_type": "markdown",
   "metadata": {},
   "source": [
    "### Clean up data\n",
    "\n",
    "Before starting to analyze the data, I needed to change the column header to clearer titles and remove redundant or unimportant information. I got rid of the columns related to location because I only needed them initially to merge the two datasets. Now that I was able to match the two datasets by matching the ids and addresses, I can drop columns related to locations."
   ]
  },
  {
   "cell_type": "code",
   "execution_count": 8,
   "metadata": {},
   "outputs": [],
   "source": [
    "#get rid of one of columns not needed for analysis\n",
    "all_df = all_df.drop([\"name_x\", \"address1\", \"zip_code\"], axis=1)"
   ]
  },
  {
   "cell_type": "code",
   "execution_count": 9,
   "metadata": {},
   "outputs": [],
   "source": [
    "#rename columns\n",
    "all_df.rename(columns={'hsisid':'id'}, inplace=True)\n",
    "all_df.rename(columns={'inspectdate':'date of inspection'}, inplace=True)\n",
    "all_df.rename(columns={'days_from_open_date':'days open'}, inplace=True)\n",
    "all_df.rename(columns={'score':'inspection score'}, inplace=True)\n",
    "all_df.rename(columns={'category':'category of violation'}, inplace=True)\n",
    "all_df.rename(columns={'critical':'critical violation?'}, inplace=True)\n",
    "all_df.rename(columns={'violationcode':'violation code'}, inplace=True)\n",
    "all_df.rename(columns={'shortdesc':'description'}, inplace=True)\n",
    "all_df.rename(columns={'pointvalue':'point value of violation'}, inplace=True)\n",
    "all_df.rename(columns={'name_y':'name'}, inplace=True)\n",
    "all_df.rename(columns={'rating':'yelp rating'}, inplace=True)\n",
    "all_df.rename(columns={'review_count':'number of yelp reviews'}, inplace=True)\n",
    "\n",
    "#reorder columns\n",
    "all_df = all_df[['id', 'name', 'yelp rating', 'number of yelp reviews', \n",
    "        'inspection score', 'category of violation', 'critical violation?', \n",
    "        'violation code', 'severity', 'point value of violation', 'description', \n",
    "        'comments', 'days open', 'date of inspection']]\n",
    "\n",
    "#drop rows with NaN data\n",
    "all_df = all_df.dropna()"
   ]
  },
  {
   "cell_type": "markdown",
   "metadata": {},
   "source": [
    "I tried to change the titles to be as clear as possible, but there might be some columns with ambiguous names, so I'll try to clarify their meanings here. First of all, all_df is arranged by violations sorted together by hsisid, renamed to be id. The id is the health inspection assigned identifying number for the restaurant. Therefore, multiple rows that have the same id are the same restaurant's different violations. The critical violation? is a column that indicates if that specific violation is critical or not. The severity is which violation type that violation is. There are three: core, priority, and priority foundation. Core are items related to general sanitation, operational controls, operating procedures, facilities, structures, equipment, and general maintenance. Priority items are related to eliminating, or taking steps to reduce hazards of foodborne illnesses. Priority foundation are related to equipment, training, and documentation to prevent foodbourne illnesses. Info from: http://transylvaniahealth.org/wp-content/uploads/2015/10/NC-Food-Code-Manual-2009-FINAL.pdf. Point value of violation is the amount of points that will be subtracted due to that violation. Description is the general comments from the inspection, while comments is specific to that violation. "
   ]
  },
  {
   "cell_type": "code",
   "execution_count": 10,
   "metadata": {},
   "outputs": [],
   "source": [
    "#creates a column to count the number of violations per restaurant\n",
    "all_df['violation count'] = 1\n",
    "\n",
    "#function to convert yes to 1 and no to 0 \n",
    "def convert_label(label):\n",
    "    if (label == 'Yes' or label == 'yes'):\n",
    "        return float(1.0)\n",
    "    elif (label == 'No' or label == 'no'):\n",
    "        return float(0.0)\n",
    "    else: \n",
    "        return label\n",
    "\n",
    "#convert critical violations column to 1s and 0s\n",
    "all_df['critical violation?'] = all_df['critical violation?'].apply(convert_label)"
   ]
  },
  {
   "cell_type": "code",
   "execution_count": 11,
   "metadata": {
    "scrolled": true
   },
   "outputs": [
    {
     "data": {
      "text/html": [
       "<div>\n",
       "<style scoped>\n",
       "    .dataframe tbody tr th:only-of-type {\n",
       "        vertical-align: middle;\n",
       "    }\n",
       "\n",
       "    .dataframe tbody tr th {\n",
       "        vertical-align: top;\n",
       "    }\n",
       "\n",
       "    .dataframe thead th {\n",
       "        text-align: right;\n",
       "    }\n",
       "</style>\n",
       "<table border=\"1\" class=\"dataframe\">\n",
       "  <thead>\n",
       "    <tr style=\"text-align: right;\">\n",
       "      <th></th>\n",
       "      <th></th>\n",
       "      <th>id</th>\n",
       "      <th>name</th>\n",
       "      <th>yelp rating</th>\n",
       "      <th>number of yelp reviews</th>\n",
       "      <th>inspection score</th>\n",
       "      <th>critical violation?</th>\n",
       "      <th>days open</th>\n",
       "      <th>violation count</th>\n",
       "    </tr>\n",
       "    <tr>\n",
       "      <th>id</th>\n",
       "      <th>date of inspection</th>\n",
       "      <th></th>\n",
       "      <th></th>\n",
       "      <th></th>\n",
       "      <th></th>\n",
       "      <th></th>\n",
       "      <th></th>\n",
       "      <th></th>\n",
       "      <th></th>\n",
       "    </tr>\n",
       "  </thead>\n",
       "  <tbody>\n",
       "    <tr>\n",
       "      <td rowspan=\"5\" valign=\"top\">4092010037</td>\n",
       "      <td>2013-05-14</td>\n",
       "      <td>4092010037</td>\n",
       "      <td>aubreys and peedies grill</td>\n",
       "      <td>4.5</td>\n",
       "      <td>10</td>\n",
       "      <td>98.0</td>\n",
       "      <td>3.0</td>\n",
       "      <td>8055</td>\n",
       "      <td>12</td>\n",
       "    </tr>\n",
       "    <tr>\n",
       "      <td>2014-01-09</td>\n",
       "      <td>4092010037</td>\n",
       "      <td>aubreys and peedies grill</td>\n",
       "      <td>4.5</td>\n",
       "      <td>10</td>\n",
       "      <td>96.0</td>\n",
       "      <td>4.0</td>\n",
       "      <td>8295</td>\n",
       "      <td>8</td>\n",
       "    </tr>\n",
       "    <tr>\n",
       "      <td>2014-09-05</td>\n",
       "      <td>4092010037</td>\n",
       "      <td>aubreys and peedies grill</td>\n",
       "      <td>4.5</td>\n",
       "      <td>10</td>\n",
       "      <td>95.5</td>\n",
       "      <td>2.0</td>\n",
       "      <td>8534</td>\n",
       "      <td>7</td>\n",
       "    </tr>\n",
       "    <tr>\n",
       "      <td>2015-06-26</td>\n",
       "      <td>4092010037</td>\n",
       "      <td>aubreys and peedies grill</td>\n",
       "      <td>4.5</td>\n",
       "      <td>10</td>\n",
       "      <td>96.0</td>\n",
       "      <td>2.0</td>\n",
       "      <td>8828</td>\n",
       "      <td>8</td>\n",
       "    </tr>\n",
       "    <tr>\n",
       "      <td>2016-03-21</td>\n",
       "      <td>4092010037</td>\n",
       "      <td>aubreys and peedies grill</td>\n",
       "      <td>4.5</td>\n",
       "      <td>10</td>\n",
       "      <td>96.5</td>\n",
       "      <td>1.0</td>\n",
       "      <td>9097</td>\n",
       "      <td>6</td>\n",
       "    </tr>\n",
       "    <tr>\n",
       "      <td>...</td>\n",
       "      <td>...</td>\n",
       "      <td>...</td>\n",
       "      <td>...</td>\n",
       "      <td>...</td>\n",
       "      <td>...</td>\n",
       "      <td>...</td>\n",
       "      <td>...</td>\n",
       "      <td>...</td>\n",
       "      <td>...</td>\n",
       "    </tr>\n",
       "    <tr>\n",
       "      <td rowspan=\"5\" valign=\"top\">4092300221</td>\n",
       "      <td>2014-05-06</td>\n",
       "      <td>4092300221</td>\n",
       "      <td>la zacatecana</td>\n",
       "      <td>4.5</td>\n",
       "      <td>3</td>\n",
       "      <td>93.0</td>\n",
       "      <td>9.0</td>\n",
       "      <td>3606</td>\n",
       "      <td>13</td>\n",
       "    </tr>\n",
       "    <tr>\n",
       "      <td>2014-11-19</td>\n",
       "      <td>4092300221</td>\n",
       "      <td>la zacatecana</td>\n",
       "      <td>4.5</td>\n",
       "      <td>3</td>\n",
       "      <td>92.5</td>\n",
       "      <td>4.0</td>\n",
       "      <td>3803</td>\n",
       "      <td>11</td>\n",
       "    </tr>\n",
       "    <tr>\n",
       "      <td>2015-04-08</td>\n",
       "      <td>4092300221</td>\n",
       "      <td>la zacatecana</td>\n",
       "      <td>4.5</td>\n",
       "      <td>3</td>\n",
       "      <td>95.0</td>\n",
       "      <td>1.0</td>\n",
       "      <td>3943</td>\n",
       "      <td>7</td>\n",
       "    </tr>\n",
       "    <tr>\n",
       "      <td>2015-09-18</td>\n",
       "      <td>4092300221</td>\n",
       "      <td>la zacatecana</td>\n",
       "      <td>4.5</td>\n",
       "      <td>3</td>\n",
       "      <td>94.0</td>\n",
       "      <td>2.0</td>\n",
       "      <td>4106</td>\n",
       "      <td>7</td>\n",
       "    </tr>\n",
       "    <tr>\n",
       "      <td>2016-02-05</td>\n",
       "      <td>4092300221</td>\n",
       "      <td>la zacatecana</td>\n",
       "      <td>4.5</td>\n",
       "      <td>3</td>\n",
       "      <td>98.0</td>\n",
       "      <td>0.0</td>\n",
       "      <td>4246</td>\n",
       "      <td>3</td>\n",
       "    </tr>\n",
       "  </tbody>\n",
       "</table>\n",
       "<p>914 rows × 8 columns</p>\n",
       "</div>"
      ],
      "text/plain": [
       "                                       id                       name  \\\n",
       "id         date of inspection                                          \n",
       "4092010037 2013-05-14          4092010037  aubreys and peedies grill   \n",
       "           2014-01-09          4092010037  aubreys and peedies grill   \n",
       "           2014-09-05          4092010037  aubreys and peedies grill   \n",
       "           2015-06-26          4092010037  aubreys and peedies grill   \n",
       "           2016-03-21          4092010037  aubreys and peedies grill   \n",
       "...                                   ...                        ...   \n",
       "4092300221 2014-05-06          4092300221              la zacatecana   \n",
       "           2014-11-19          4092300221              la zacatecana   \n",
       "           2015-04-08          4092300221              la zacatecana   \n",
       "           2015-09-18          4092300221              la zacatecana   \n",
       "           2016-02-05          4092300221              la zacatecana   \n",
       "\n",
       "                               yelp rating  number of yelp reviews  \\\n",
       "id         date of inspection                                        \n",
       "4092010037 2013-05-14                  4.5                      10   \n",
       "           2014-01-09                  4.5                      10   \n",
       "           2014-09-05                  4.5                      10   \n",
       "           2015-06-26                  4.5                      10   \n",
       "           2016-03-21                  4.5                      10   \n",
       "...                                    ...                     ...   \n",
       "4092300221 2014-05-06                  4.5                       3   \n",
       "           2014-11-19                  4.5                       3   \n",
       "           2015-04-08                  4.5                       3   \n",
       "           2015-09-18                  4.5                       3   \n",
       "           2016-02-05                  4.5                       3   \n",
       "\n",
       "                               inspection score  critical violation?  \\\n",
       "id         date of inspection                                          \n",
       "4092010037 2013-05-14                      98.0                  3.0   \n",
       "           2014-01-09                      96.0                  4.0   \n",
       "           2014-09-05                      95.5                  2.0   \n",
       "           2015-06-26                      96.0                  2.0   \n",
       "           2016-03-21                      96.5                  1.0   \n",
       "...                                         ...                  ...   \n",
       "4092300221 2014-05-06                      93.0                  9.0   \n",
       "           2014-11-19                      92.5                  4.0   \n",
       "           2015-04-08                      95.0                  1.0   \n",
       "           2015-09-18                      94.0                  2.0   \n",
       "           2016-02-05                      98.0                  0.0   \n",
       "\n",
       "                               days open  violation count  \n",
       "id         date of inspection                              \n",
       "4092010037 2013-05-14               8055               12  \n",
       "           2014-01-09               8295                8  \n",
       "           2014-09-05               8534                7  \n",
       "           2015-06-26               8828                8  \n",
       "           2016-03-21               9097                6  \n",
       "...                                  ...              ...  \n",
       "4092300221 2014-05-06               3606               13  \n",
       "           2014-11-19               3803               11  \n",
       "           2015-04-08               3943                7  \n",
       "           2015-09-18               4106                7  \n",
       "           2016-02-05               4246                3  \n",
       "\n",
       "[914 rows x 8 columns]"
      ]
     },
     "execution_count": 11,
     "metadata": {},
     "output_type": "execute_result"
    }
   ],
   "source": [
    "#create dataframe with number of violations per restaurant \n",
    "#by grouping restaurant by id and date of inspection\n",
    "agg_function = {'id':'first', 'name':'first', 'yelp rating':'first', \n",
    "                'number of yelp reviews':'first', 'inspection score':'first', \n",
    "                'critical violation?':'sum', 'days open':'first', \n",
    "                'violation count':'sum'}\n",
    "\n",
    "restaurant_df = all_df.sort_values('date of inspection').groupby(['id', 'date of inspection']).aggregate(agg_function)\n",
    "\n",
    "restaurant_df"
   ]
  },
  {
   "cell_type": "markdown",
   "metadata": {},
   "source": [
    "The above data list the restaurants and the count of violations per inspections. Since there are several inspections per restaurant, we can't just add up all the violation counts because restaurant that have been around longer would probably have more inspection and violation counts. Instead, I am going to just take the data for the most recent inspection and use that dataset for the analysis. "
   ]
  },
  {
   "cell_type": "code",
   "execution_count": 12,
   "metadata": {},
   "outputs": [
    {
     "data": {
      "text/html": [
       "<div>\n",
       "<style scoped>\n",
       "    .dataframe tbody tr th:only-of-type {\n",
       "        vertical-align: middle;\n",
       "    }\n",
       "\n",
       "    .dataframe tbody tr th {\n",
       "        vertical-align: top;\n",
       "    }\n",
       "\n",
       "    .dataframe thead th {\n",
       "        text-align: right;\n",
       "    }\n",
       "</style>\n",
       "<table border=\"1\" class=\"dataframe\">\n",
       "  <thead>\n",
       "    <tr style=\"text-align: right;\">\n",
       "      <th></th>\n",
       "      <th></th>\n",
       "      <th>name</th>\n",
       "      <th>yelp rating</th>\n",
       "      <th>number of yelp reviews</th>\n",
       "      <th>inspection score</th>\n",
       "      <th>number of critical</th>\n",
       "      <th>days open</th>\n",
       "      <th>violation count</th>\n",
       "    </tr>\n",
       "    <tr>\n",
       "      <th>id</th>\n",
       "      <th>date of inspection</th>\n",
       "      <th></th>\n",
       "      <th></th>\n",
       "      <th></th>\n",
       "      <th></th>\n",
       "      <th></th>\n",
       "      <th></th>\n",
       "      <th></th>\n",
       "    </tr>\n",
       "  </thead>\n",
       "  <tbody>\n",
       "    <tr>\n",
       "      <td>4092021200</td>\n",
       "      <td>2015-06-26</td>\n",
       "      <td>thomas e brooks park</td>\n",
       "      <td>4.5</td>\n",
       "      <td>4</td>\n",
       "      <td>98.5</td>\n",
       "      <td>0.0</td>\n",
       "      <td>4386</td>\n",
       "      <td>3</td>\n",
       "    </tr>\n",
       "    <tr>\n",
       "      <td>4092030175</td>\n",
       "      <td>2015-11-23</td>\n",
       "      <td>don beto el poblano</td>\n",
       "      <td>5.0</td>\n",
       "      <td>2</td>\n",
       "      <td>87.0</td>\n",
       "      <td>8.0</td>\n",
       "      <td>3076</td>\n",
       "      <td>15</td>\n",
       "    </tr>\n",
       "    <tr>\n",
       "      <td>4092014015</td>\n",
       "      <td>2015-11-25</td>\n",
       "      <td>third place coffee house</td>\n",
       "      <td>4.0</td>\n",
       "      <td>71</td>\n",
       "      <td>93.0</td>\n",
       "      <td>4.0</td>\n",
       "      <td>4255</td>\n",
       "      <td>11</td>\n",
       "    </tr>\n",
       "    <tr>\n",
       "      <td>4092012172</td>\n",
       "      <td>2015-12-29</td>\n",
       "      <td>courtney's restaurant</td>\n",
       "      <td>3.0</td>\n",
       "      <td>57</td>\n",
       "      <td>96.0</td>\n",
       "      <td>4.0</td>\n",
       "      <td>6601</td>\n",
       "      <td>9</td>\n",
       "    </tr>\n",
       "    <tr>\n",
       "      <td>4092014315</td>\n",
       "      <td>2015-12-29</td>\n",
       "      <td>mcdonalds</td>\n",
       "      <td>3.0</td>\n",
       "      <td>1</td>\n",
       "      <td>96.0</td>\n",
       "      <td>9.0</td>\n",
       "      <td>3889</td>\n",
       "      <td>18</td>\n",
       "    </tr>\n",
       "    <tr>\n",
       "      <td>...</td>\n",
       "      <td>...</td>\n",
       "      <td>...</td>\n",
       "      <td>...</td>\n",
       "      <td>...</td>\n",
       "      <td>...</td>\n",
       "      <td>...</td>\n",
       "      <td>...</td>\n",
       "      <td>...</td>\n",
       "    </tr>\n",
       "    <tr>\n",
       "      <td>4092021196</td>\n",
       "      <td>2016-10-18</td>\n",
       "      <td>harris teeter</td>\n",
       "      <td>3.5</td>\n",
       "      <td>21</td>\n",
       "      <td>97.0</td>\n",
       "      <td>3.0</td>\n",
       "      <td>4865</td>\n",
       "      <td>7</td>\n",
       "    </tr>\n",
       "    <tr>\n",
       "      <td>4092010795</td>\n",
       "      <td>2016-10-19</td>\n",
       "      <td>watkins grill</td>\n",
       "      <td>4.0</td>\n",
       "      <td>40</td>\n",
       "      <td>94.0</td>\n",
       "      <td>1.0</td>\n",
       "      <td>9303</td>\n",
       "      <td>8</td>\n",
       "    </tr>\n",
       "    <tr>\n",
       "      <td>4092012067</td>\n",
       "      <td>2016-10-21</td>\n",
       "      <td>kabuki japanese house of steak</td>\n",
       "      <td>2.5</td>\n",
       "      <td>79</td>\n",
       "      <td>85.5</td>\n",
       "      <td>10.0</td>\n",
       "      <td>7057</td>\n",
       "      <td>18</td>\n",
       "    </tr>\n",
       "    <tr>\n",
       "      <td>4092013876</td>\n",
       "      <td>2016-11-01</td>\n",
       "      <td>bass lake draft house</td>\n",
       "      <td>3.0</td>\n",
       "      <td>96</td>\n",
       "      <td>96.0</td>\n",
       "      <td>1.0</td>\n",
       "      <td>5187</td>\n",
       "      <td>3</td>\n",
       "    </tr>\n",
       "    <tr>\n",
       "      <td>4092013707</td>\n",
       "      <td>2016-11-01</td>\n",
       "      <td>home grown pizza</td>\n",
       "      <td>3.5</td>\n",
       "      <td>39</td>\n",
       "      <td>95.0</td>\n",
       "      <td>2.0</td>\n",
       "      <td>5107</td>\n",
       "      <td>5</td>\n",
       "    </tr>\n",
       "  </tbody>\n",
       "</table>\n",
       "<p>127 rows × 7 columns</p>\n",
       "</div>"
      ],
      "text/plain": [
       "                                                         name  yelp rating  \\\n",
       "id         date of inspection                                                \n",
       "4092021200 2015-06-26                    thomas e brooks park          4.5   \n",
       "4092030175 2015-11-23                     don beto el poblano          5.0   \n",
       "4092014015 2015-11-25                third place coffee house          4.0   \n",
       "4092012172 2015-12-29                   courtney's restaurant          3.0   \n",
       "4092014315 2015-12-29                               mcdonalds          3.0   \n",
       "...                                                       ...          ...   \n",
       "4092021196 2016-10-18                           harris teeter          3.5   \n",
       "4092010795 2016-10-19                           watkins grill          4.0   \n",
       "4092012067 2016-10-21          kabuki japanese house of steak          2.5   \n",
       "4092013876 2016-11-01                   bass lake draft house          3.0   \n",
       "4092013707 2016-11-01                        home grown pizza          3.5   \n",
       "\n",
       "                               number of yelp reviews  inspection score  \\\n",
       "id         date of inspection                                             \n",
       "4092021200 2015-06-26                               4              98.5   \n",
       "4092030175 2015-11-23                               2              87.0   \n",
       "4092014015 2015-11-25                              71              93.0   \n",
       "4092012172 2015-12-29                              57              96.0   \n",
       "4092014315 2015-12-29                               1              96.0   \n",
       "...                                               ...               ...   \n",
       "4092021196 2016-10-18                              21              97.0   \n",
       "4092010795 2016-10-19                              40              94.0   \n",
       "4092012067 2016-10-21                              79              85.5   \n",
       "4092013876 2016-11-01                              96              96.0   \n",
       "4092013707 2016-11-01                              39              95.0   \n",
       "\n",
       "                               number of critical  days open  violation count  \n",
       "id         date of inspection                                                  \n",
       "4092021200 2015-06-26                         0.0       4386                3  \n",
       "4092030175 2015-11-23                         8.0       3076               15  \n",
       "4092014015 2015-11-25                         4.0       4255               11  \n",
       "4092012172 2015-12-29                         4.0       6601                9  \n",
       "4092014315 2015-12-29                         9.0       3889               18  \n",
       "...                                           ...        ...              ...  \n",
       "4092021196 2016-10-18                         3.0       4865                7  \n",
       "4092010795 2016-10-19                         1.0       9303                8  \n",
       "4092012067 2016-10-21                        10.0       7057               18  \n",
       "4092013876 2016-11-01                         1.0       5187                3  \n",
       "4092013707 2016-11-01                         2.0       5107                5  \n",
       "\n",
       "[127 rows x 7 columns]"
      ]
     },
     "execution_count": 12,
     "metadata": {},
     "output_type": "execute_result"
    }
   ],
   "source": [
    "#create a dataframe with the most recent inspection data\n",
    "recent_df = restaurant_df.sort_values(by='date of inspection').drop_duplicates(subset=['id'], keep='last')\n",
    "\n",
    "#drop repeated id column\n",
    "recent_df = recent_df.drop(recent_df.columns[0], axis=1)\n",
    "\n",
    "#rename critical violation? column to be more descriptive\n",
    "recent_df.rename(columns={'critical violation?':'number of critical'}, inplace=True)\n",
    "\n",
    "recent_df"
   ]
  },
  {
   "cell_type": "markdown",
   "metadata": {},
   "source": [
    "Before analyzing the data I want to check if there are any unexpected values. "
   ]
  },
  {
   "cell_type": "code",
   "execution_count": 13,
   "metadata": {},
   "outputs": [
    {
     "name": "stdout",
     "output_type": "stream",
     "text": [
      "True\n",
      "True\n",
      "True\n"
     ]
    }
   ],
   "source": [
    "#count number of unique names\n",
    "len(recent_df['name'].unique())\n",
    "#result of 94 seems reasonable since there may be restaurants with same names\n",
    "\n",
    "#check yelp rating values are between 1-5\n",
    "print(all(i >= 0 and i <= 5 for i in recent_df['yelp rating'].unique()))\n",
    "#values are all in correct range\n",
    "\n",
    "#check if all are positive numbers\n",
    "print(all(i >= 0 for i in recent_df['number of yelp reviews'].unique()))\n",
    "\n",
    "#check if all are 100 or less\n",
    "print(all(i <= 100 for i in recent_df['inspection score'].unique()))\n"
   ]
  },
  {
   "cell_type": "markdown",
   "metadata": {},
   "source": [
    "# Data Analysis & Results"
   ]
  },
  {
   "cell_type": "markdown",
   "metadata": {},
   "source": [
    "### Data Visualization\n",
    "\n",
    "First I wanted to get a general understanding of the data by looking at the average values and general trend of the data."
   ]
  },
  {
   "cell_type": "code",
   "execution_count": 14,
   "metadata": {
    "scrolled": true
   },
   "outputs": [
    {
     "data": {
      "text/html": [
       "<div>\n",
       "<style scoped>\n",
       "    .dataframe tbody tr th:only-of-type {\n",
       "        vertical-align: middle;\n",
       "    }\n",
       "\n",
       "    .dataframe tbody tr th {\n",
       "        vertical-align: top;\n",
       "    }\n",
       "\n",
       "    .dataframe thead th {\n",
       "        text-align: right;\n",
       "    }\n",
       "</style>\n",
       "<table border=\"1\" class=\"dataframe\">\n",
       "  <thead>\n",
       "    <tr style=\"text-align: right;\">\n",
       "      <th></th>\n",
       "      <th>yelp rating</th>\n",
       "      <th>number of yelp reviews</th>\n",
       "      <th>inspection score</th>\n",
       "      <th>number of critical</th>\n",
       "      <th>days open</th>\n",
       "      <th>violation count</th>\n",
       "    </tr>\n",
       "  </thead>\n",
       "  <tbody>\n",
       "    <tr>\n",
       "      <td>count</td>\n",
       "      <td>127.000000</td>\n",
       "      <td>127.000000</td>\n",
       "      <td>127.000000</td>\n",
       "      <td>127.000000</td>\n",
       "      <td>127.000000</td>\n",
       "      <td>127.000000</td>\n",
       "    </tr>\n",
       "    <tr>\n",
       "      <td>mean</td>\n",
       "      <td>3.401575</td>\n",
       "      <td>34.330709</td>\n",
       "      <td>96.039370</td>\n",
       "      <td>6.881890</td>\n",
       "      <td>5471.204724</td>\n",
       "      <td>20.377953</td>\n",
       "    </tr>\n",
       "    <tr>\n",
       "      <td>std</td>\n",
       "      <td>0.910781</td>\n",
       "      <td>48.020012</td>\n",
       "      <td>2.466125</td>\n",
       "      <td>30.257523</td>\n",
       "      <td>1750.741808</td>\n",
       "      <td>82.958005</td>\n",
       "    </tr>\n",
       "    <tr>\n",
       "      <td>min</td>\n",
       "      <td>1.000000</td>\n",
       "      <td>1.000000</td>\n",
       "      <td>85.500000</td>\n",
       "      <td>0.000000</td>\n",
       "      <td>651.000000</td>\n",
       "      <td>1.000000</td>\n",
       "    </tr>\n",
       "    <tr>\n",
       "      <td>25%</td>\n",
       "      <td>3.000000</td>\n",
       "      <td>4.000000</td>\n",
       "      <td>95.000000</td>\n",
       "      <td>0.000000</td>\n",
       "      <td>4525.000000</td>\n",
       "      <td>4.000000</td>\n",
       "    </tr>\n",
       "    <tr>\n",
       "      <td>50%</td>\n",
       "      <td>3.500000</td>\n",
       "      <td>14.000000</td>\n",
       "      <td>96.500000</td>\n",
       "      <td>2.000000</td>\n",
       "      <td>4840.000000</td>\n",
       "      <td>6.000000</td>\n",
       "    </tr>\n",
       "    <tr>\n",
       "      <td>75%</td>\n",
       "      <td>4.000000</td>\n",
       "      <td>42.500000</td>\n",
       "      <td>98.000000</td>\n",
       "      <td>3.000000</td>\n",
       "      <td>5934.000000</td>\n",
       "      <td>9.000000</td>\n",
       "    </tr>\n",
       "    <tr>\n",
       "      <td>max</td>\n",
       "      <td>5.000000</td>\n",
       "      <td>237.000000</td>\n",
       "      <td>100.000000</td>\n",
       "      <td>290.000000</td>\n",
       "      <td>9303.000000</td>\n",
       "      <td>754.000000</td>\n",
       "    </tr>\n",
       "  </tbody>\n",
       "</table>\n",
       "</div>"
      ],
      "text/plain": [
       "       yelp rating  number of yelp reviews  inspection score  \\\n",
       "count   127.000000              127.000000        127.000000   \n",
       "mean      3.401575               34.330709         96.039370   \n",
       "std       0.910781               48.020012          2.466125   \n",
       "min       1.000000                1.000000         85.500000   \n",
       "25%       3.000000                4.000000         95.000000   \n",
       "50%       3.500000               14.000000         96.500000   \n",
       "75%       4.000000               42.500000         98.000000   \n",
       "max       5.000000              237.000000        100.000000   \n",
       "\n",
       "       number of critical    days open  violation count  \n",
       "count          127.000000   127.000000       127.000000  \n",
       "mean             6.881890  5471.204724        20.377953  \n",
       "std             30.257523  1750.741808        82.958005  \n",
       "min              0.000000   651.000000         1.000000  \n",
       "25%              0.000000  4525.000000         4.000000  \n",
       "50%              2.000000  4840.000000         6.000000  \n",
       "75%              3.000000  5934.000000         9.000000  \n",
       "max            290.000000  9303.000000       754.000000  "
      ]
     },
     "execution_count": 14,
     "metadata": {},
     "output_type": "execute_result"
    }
   ],
   "source": [
    "recent_df.describe()"
   ]
  },
  {
   "cell_type": "code",
   "execution_count": 15,
   "metadata": {},
   "outputs": [
    {
     "data": {
      "image/png": "[encoded data removed]",
      "text/plain": [
       "<Figure size 1080x720 with 25 Axes>"
      ]
     },
     "metadata": {
      "needs_background": "light"
     },
     "output_type": "display_data"
    }
   ],
   "source": [
    "#creates a scatter plot matrix for recent_df\n",
    "pd.plotting.scatter_matrix(recent_df[['yelp rating','number of yelp reviews','inspection score','number of critical','violation count']], \n",
    "                           figsize=(15, 10));"
   ]
  },
  {
   "cell_type": "markdown",
   "metadata": {},
   "source": [
    "Figure 1: Scatterplot matrix of columns in recent_df "
   ]
  },
  {
   "cell_type": "markdown",
   "metadata": {},
   "source": [
    "Seeing the max values for violation count and number of critical violation and looking at the scatter plots, I noticed outliers of really high values for number of critical and violation count. So I check that there isn't any problems with the dataset. "
   ]
  },
  {
   "cell_type": "code",
   "execution_count": 16,
   "metadata": {},
   "outputs": [
    {
     "name": "stdout",
     "output_type": "stream",
     "text": [
      "name                      red monkey tavern\n",
      "yelp rating                               3\n",
      "number of yelp reviews                  179\n",
      "inspection score                       90.5\n",
      "number of critical                      290\n",
      "days open                              4603\n",
      "violation count                         754\n",
      "Name: (4092013869, 2016-03-15), dtype: object\n",
      "\n",
      "check counts\n",
      "[1]\n",
      "\n",
      "check counts\n",
      "[  3.   4.   2.   1.   6.   5.   8.  10.   0.   7.   9.  11.  15. 232.\n",
      " 145.  58.  87. 116.  20.  13.  24. 290.  29.  14.  12.  33.  27.  32.\n",
      "  34.  22.  28.  44.  36.  16.  51.  18.  35.]\n",
      "\n",
      "id                          309\n",
      "name                        309\n",
      "yelp rating                 309\n",
      "number of yelp reviews      309\n",
      "inspection score            309\n",
      "category of violation       309\n",
      "critical violation?         309\n",
      "violation code              309\n",
      "severity                    309\n",
      "point value of violation    309\n",
      "description                 309\n",
      "comments                    309\n",
      "days open                   309\n",
      "date of inspection          309\n",
      "violation count             309\n",
      "dtype: int64\n"
     ]
    }
   ],
   "source": [
    "#check maximum value of number of critical violations column\n",
    "print(recent_df.loc[recent_df['number of critical'].idxmax()])\n",
    "\n",
    "#check if there are only 1s in violation count column\n",
    "print()\n",
    "print('check counts')\n",
    "print(all_df['violation count'].unique())\n",
    "\n",
    "#check if there are not very large numbers in critical violation?\n",
    "print()\n",
    "print('check counts')\n",
    "print(restaurant_df['critical violation?'].unique())\n",
    "print()\n",
    "\n",
    "#count inspections at red monkey tavern \n",
    "print(all_df.loc[all_df['name'] == 'red monkey tavern'].count())"
   ]
  },
  {
   "cell_type": "markdown",
   "metadata": {},
   "source": [
    "Although the data seems fine, I want to make a note of this because there might be problems with the dataset that I overlooked and these outliers may skew the data."
   ]
  },
  {
   "cell_type": "code",
   "execution_count": 17,
   "metadata": {},
   "outputs": [
    {
     "data": {
      "text/plain": [
       "Text(0, 0.5, 'frequency')"
      ]
     },
     "execution_count": 17,
     "metadata": {},
     "output_type": "execute_result"
    },
    {
     "data": {
      "image/png": "[encoded data removed]",
      "text/plain": [
       "<Figure size 432x288 with 1 Axes>"
      ]
     },
     "metadata": {
      "needs_background": "light"
     },
     "output_type": "display_data"
    }
   ],
   "source": [
    "ax = sns.distplot(recent_df['inspection score'], kde=False)\n",
    "ax.set_title('Inspection Score Distribution')\n",
    "ax.set_ylabel('frequency')"
   ]
  },
  {
   "cell_type": "markdown",
   "metadata": {},
   "source": [
    "Figure 2: Inspection score are out of a possible 100 points. 90 and above is an A rating and 80-89 is a B rating. A majority of restaurants in dataset have an A rating."
   ]
  },
  {
   "cell_type": "code",
   "execution_count": 18,
   "metadata": {},
   "outputs": [
    {
     "data": {
      "text/plain": [
       "Text(0, 0.5, 'frequency')"
      ]
     },
     "execution_count": 18,
     "metadata": {},
     "output_type": "execute_result"
    },
    {
     "data": {
      "image/png": "[encoded data removed]",
      "text/plain": [
       "<Figure size 432x288 with 1 Axes>"
      ]
     },
     "metadata": {
      "needs_background": "light"
     },
     "output_type": "display_data"
    }
   ],
   "source": [
    "ax = sns.distplot(recent_df['yelp rating'], kde=False)\n",
    "ax.set_title('Yelp Ratings Distribution')\n",
    "ax.set_ylabel('frequency')"
   ]
  },
  {
   "cell_type": "markdown",
   "metadata": {},
   "source": [
    "Figure 3: On yelp users are able to rate restaurants on a scale of 1 to 5 stars. Most yelp ratings seem to be from 3-4.5."
   ]
  },
  {
   "cell_type": "code",
   "execution_count": 19,
   "metadata": {},
   "outputs": [
    {
     "data": {
      "text/plain": [
       "Text(0, 0.5, 'frequency')"
      ]
     },
     "execution_count": 19,
     "metadata": {},
     "output_type": "execute_result"
    },
    {
     "data": {
      "image/png": "[encoded data removed]",
      "text/plain": [
       "<Figure size 432x288 with 1 Axes>"
      ]
     },
     "metadata": {
      "needs_background": "light"
     },
     "output_type": "display_data"
    }
   ],
   "source": [
    "ax = sns.distplot(recent_df['number of yelp reviews'], kde=False)\n",
    "ax.set_title('Number of Yelp Reviews Distribution')\n",
    "ax.set_ylabel('frequency')"
   ]
  },
  {
   "cell_type": "markdown",
   "metadata": {},
   "source": [
    "Figure 4: Most restaurants have less than 50 yelp reviews."
   ]
  },
  {
   "cell_type": "code",
   "execution_count": 20,
   "metadata": {},
   "outputs": [
    {
     "data": {
      "text/plain": [
       "Text(0.5, 1.0, 'Relationship between inspection score and yelp rating')"
      ]
     },
     "execution_count": 20,
     "metadata": {},
     "output_type": "execute_result"
    },
    {
     "data": {
      "image/png": "[encoded data removed]",
      "text/plain": [
       "<Figure size 432x288 with 1 Axes>"
      ]
     },
     "metadata": {
      "needs_background": "light"
     },
     "output_type": "display_data"
    }
   ],
   "source": [
    "ax = sns.scatterplot(x='yelp rating', y='inspection score', data=recent_df)\n",
    "ax.set_title('Relationship between inspection score and yelp rating')"
   ]
  },
  {
   "cell_type": "markdown",
   "metadata": {},
   "source": [
    "Figure 5: Based on this scatterplot it is unclear if there is a relationship between inspection score and yelp rating."
   ]
  },
  {
   "cell_type": "code",
   "execution_count": 21,
   "metadata": {},
   "outputs": [
    {
     "data": {
      "text/plain": [
       "Text(0.5, 1.0, 'Relationship between inspection score and yelp rating')"
      ]
     },
     "execution_count": 21,
     "metadata": {},
     "output_type": "execute_result"
    },
    {
     "data": {
      "image/png": "[encoded data removed]",
      "text/plain": [
       "<Figure size 432x288 with 1 Axes>"
      ]
     },
     "metadata": {
      "needs_background": "light"
     },
     "output_type": "display_data"
    }
   ],
   "source": [
    "ax = sns.scatterplot(x='inspection score', y='number of yelp reviews', data=recent_df)\n",
    "ax.set_title('Relationship between inspection score and yelp rating')"
   ]
  },
  {
   "cell_type": "markdown",
   "metadata": {},
   "source": [
    "Figure 6: Based on this scatterplot it is unclear if there is a relationship between inspection score and number of yelp reviews."
   ]
  },
  {
   "cell_type": "code",
   "execution_count": 22,
   "metadata": {},
   "outputs": [
    {
     "data": {
      "text/plain": [
       "Text(0.5, 1.0, 'Relationship between yelp review count and number of critical violations')"
      ]
     },
     "execution_count": 22,
     "metadata": {},
     "output_type": "execute_result"
    },
    {
     "data": {
      "image/png": "[encoded data removed]",
      "text/plain": [
       "<Figure size 432x288 with 1 Axes>"
      ]
     },
     "metadata": {
      "needs_background": "light"
     },
     "output_type": "display_data"
    }
   ],
   "source": [
    "#remove outliers to better visualize \n",
    "#note the outlier is only removed for the visual below\n",
    "df = recent_df[recent_df['number of critical'] < 50]\n",
    "\n",
    "ax = sns.scatterplot(x='number of yelp reviews', y='number of critical', data=df)\n",
    "ax.set_title('Relationship between yelp review count and number of critical violations')"
   ]
  },
  {
   "cell_type": "markdown",
   "metadata": {},
   "source": [
    "Figure 7: The above graph is to show the relationship between the number of critical violations of committed by the restaurant and the number of yelp reviews."
   ]
  },
  {
   "cell_type": "markdown",
   "metadata": {},
   "source": [
    "### Linear Regression\n",
    "\n",
    "To identify the relationship between yelp ratings and review count and inspection scores I'm going to be using a linear regression model to find the best fit line."
   ]
  },
  {
   "cell_type": "markdown",
   "metadata": {},
   "source": [
    "#### Linear Regression Model for Yelp Rating"
   ]
  },
  {
   "cell_type": "code",
   "execution_count": 23,
   "metadata": {},
   "outputs": [
    {
     "name": "stdout",
     "output_type": "stream",
     "text": [
      "                            OLS Regression Results                            \n",
      "==============================================================================\n",
      "Dep. Variable:          inspect_score   R-squared:                       0.009\n",
      "Model:                            OLS   Adj. R-squared:                  0.001\n",
      "Method:                 Least Squares   F-statistic:                     1.149\n",
      "Date:                Wed, 10 Jun 2020   Prob (F-statistic):              0.286\n",
      "Time:                        07:21:30   Log-Likelihood:                -293.76\n",
      "No. Observations:                 127   AIC:                             591.5\n",
      "Df Residuals:                     125   BIC:                             597.2\n",
      "Df Model:                           1                                         \n",
      "Covariance Type:            nonrobust                                         \n",
      "===============================================================================\n",
      "                  coef    std err          t      P>|t|      [0.025      0.975]\n",
      "-------------------------------------------------------------------------------\n",
      "Intercept      96.9183      0.849    114.195      0.000      95.239      98.598\n",
      "yelp_rating    -0.2584      0.241     -1.072      0.286      -0.736       0.219\n",
      "==============================================================================\n",
      "Omnibus:                       38.680   Durbin-Watson:                   1.909\n",
      "Prob(Omnibus):                  0.000   Jarque-Bera (JB):               78.309\n",
      "Skew:                          -1.294   Prob(JB):                     9.89e-18\n",
      "Kurtosis:                       5.845   Cond. No.                         14.7\n",
      "==============================================================================\n",
      "\n",
      "Warnings:\n",
      "[1] Standard Errors assume that the covariance matrix of the errors is correctly specified.\n"
     ]
    }
   ],
   "source": [
    "#rename columns to be able to create linear regression model\n",
    "recent_df.rename(columns={'yelp rating':'yelp_rating'}, inplace=True)\n",
    "recent_df.rename(columns={'inspection score':'inspect_score'}, inplace=True)\n",
    "\n",
    "#create model\n",
    "outcome, predictors = patsy.dmatrices('inspect_score ~ yelp_rating', recent_df)\n",
    "mod = sm.OLS(outcome, predictors)\n",
    "res = mod.fit()\n",
    "print(res.summary())"
   ]
  },
  {
   "cell_type": "code",
   "execution_count": 24,
   "metadata": {},
   "outputs": [
    {
     "data": {
      "image/png": "[encoded data removed]",
      "text/plain": [
       "<Figure size 432x288 with 1 Axes>"
      ]
     },
     "metadata": {
      "needs_background": "light"
     },
     "output_type": "display_data"
    }
   ],
   "source": [
    "#plot original data\n",
    "sns.scatterplot(x='yelp_rating', y='inspect_score', data=recent_df)\n",
    "\n",
    "#generate model fit line\n",
    "xs = np.arange(recent_df['yelp_rating'].min(), recent_df['yelp_rating'].max())\n",
    "ys = -0.2584 * xs + 96.9183\n",
    "plt.plot(xs, ys, '--k', linewidth=4, label='Model')\n",
    "\n",
    "plt.xlabel('Yelp Rating')\n",
    "plt.ylabel('Inspection Score')\n",
    "plt.title('Relationship between Yelp Rating and Inspection Score')\n",
    "plt.legend();"
   ]
  },
  {
   "cell_type": "markdown",
   "metadata": {},
   "source": [
    "Figure 8: The line generated from the linear regression model suggests there may be a slight negative correlation between the inspection score and yelp rating. The lower the inspection score, the higher the yelp rating."
   ]
  },
  {
   "cell_type": "markdown",
   "metadata": {},
   "source": [
    "#### Linear Regression Model for Number of Yelp Reviews"
   ]
  },
  {
   "cell_type": "code",
   "execution_count": 25,
   "metadata": {},
   "outputs": [
    {
     "name": "stdout",
     "output_type": "stream",
     "text": [
      "                            OLS Regression Results                            \n",
      "==============================================================================\n",
      "Dep. Variable:          inspect_score   R-squared:                       0.029\n",
      "Model:                            OLS   Adj. R-squared:                  0.021\n",
      "Method:                 Least Squares   F-statistic:                     3.714\n",
      "Date:                Wed, 10 Jun 2020   Prob (F-statistic):             0.0562\n",
      "Time:                        07:21:31   Log-Likelihood:                -292.48\n",
      "No. Observations:                 127   AIC:                             589.0\n",
      "Df Residuals:                     125   BIC:                             594.6\n",
      "Df Model:                           1                                         \n",
      "Covariance Type:            nonrobust                                         \n",
      "===================================================================================\n",
      "                      coef    std err          t      P>|t|      [0.025      0.975]\n",
      "-----------------------------------------------------------------------------------\n",
      "Intercept          96.3389      0.267    361.480      0.000      95.811      96.866\n",
      "yelp_review_num    -0.0087      0.005     -1.927      0.056      -0.018       0.000\n",
      "==============================================================================\n",
      "Omnibus:                       38.625   Durbin-Watson:                   1.924\n",
      "Prob(Omnibus):                  0.000   Jarque-Bera (JB):               76.089\n",
      "Skew:                          -1.309   Prob(JB):                     3.00e-17\n",
      "Kurtosis:                       5.743   Cond. No.                         72.5\n",
      "==============================================================================\n",
      "\n",
      "Warnings:\n",
      "[1] Standard Errors assume that the covariance matrix of the errors is correctly specified.\n"
     ]
    }
   ],
   "source": [
    "#rename columns to be able to create linear regression model\n",
    "recent_df.rename(columns={'number of yelp reviews':'yelp_review_num'}, inplace=True)\n",
    "\n",
    "#create model\n",
    "outcome, predictors = patsy.dmatrices('inspect_score ~ yelp_review_num', recent_df)\n",
    "mod = sm.OLS(outcome, predictors)\n",
    "res = mod.fit()\n",
    "print(res.summary())"
   ]
  },
  {
   "cell_type": "code",
   "execution_count": 26,
   "metadata": {},
   "outputs": [
    {
     "data": {
      "image/png": "[encoded data removed]",
      "text/plain": [
       "<Figure size 432x288 with 1 Axes>"
      ]
     },
     "metadata": {
      "needs_background": "light"
     },
     "output_type": "display_data"
    }
   ],
   "source": [
    "#plot original data\n",
    "sns.scatterplot(x='yelp_review_num', y='inspect_score', data=recent_df)\n",
    "\n",
    "#generate model fit line\n",
    "xs = np.arange(recent_df['yelp_review_num'].min(), recent_df['yelp_review_num'].max())\n",
    "ys = -0.0087 * xs + 96.3389\n",
    "plt.plot(xs, ys, '--k', linewidth=4, label='Model')\n",
    "\n",
    "plt.xlabel('Number of Yelp Reviews')\n",
    "plt.ylabel('Inspection Score')\n",
    "plt.title('Relationship between Number of Yelp Reviews and Inspection Score')\n",
    "plt.legend();"
   ]
  },
  {
   "cell_type": "markdown",
   "metadata": {},
   "source": [
    "Figure 9: The line generated from the linear regression model suggests there may be a slight negative correlation between the inspection score and number of yelp reviews. The more yelp reviews, the lower the inspection score."
   ]
  },
  {
   "cell_type": "markdown",
   "metadata": {},
   "source": [
    "# Ethics & Privacy"
   ]
  },
  {
   "cell_type": "markdown",
   "metadata": {},
   "source": [
    "The dataset was given for use in the final project, so I had permission to use the dataset for this purpose. Although I am not entirely certain of the exact source of the dataset, to my knowledge health inspsection data is typically available for the public to view and all the information regarding yelp rating and reviews of the restaurants that are in the yelp dataset is accessible to the public via yelp's website.\n",
    "\n",
    "Although the health inspection data is accessible to the public, one area to be concerned about privacy is the information identifying the people that inspected the restaurant. Information regarding the inspectors was removed early on out of concern for privacy and because the information was not necessary for the analysis. Another potential area for concern would be the privacy of the person rating the restaurant on yelp. However, this is not problem for this analysis as the names of the people rating the restaurant on yelp were not attached to the dataset and there is no way in this analysis to identify the users contributing to that yelp rating.\n",
    "\n",
    "There is potential for bias in how it was collected. The health inspection data is based on an health inspectors' observations, so the recorded observations are subject to human error. There is also potential for bias in yelp reviews. Yelp reviews are not representative of the entire population because some people might have an opinion on a restaurant, but not review it. Therefore, whether a person is more likely to write a review online might bias the yelp dataset. While these biases are unavoidable, it is important to note their potential to influence the data.  \n",
    "\n",
    "One possible unintended consequence of this analysis could be emphasizing negative qualities of an individual restaurant. Even though the data concerning the cleanliness and safety of a restaurant is already public record, the data could highlight health violations of several restaurants. But this consequence may be unavoidable considering the research questions seeks to understand health inspection scores and food safety.\n",
    "\n",
    "In terms of accuracy of the data, it is important to note that because the dataset was provided to me for the final project, I am not entirely sure where the data came from and do not have a complete understanding of the dataset. As a result, I may have overlooked certain aspects of the data imperative to analyzing and understanding the data. "
   ]
  },
  {
   "cell_type": "markdown",
   "metadata": {},
   "source": [
    "# Conclusion & Discussion"
   ]
  },
  {
   "cell_type": "markdown",
   "metadata": {},
   "source": [
    "In this project, I intended to find the relationship between yelp ratings and the number of yelp reviews and inspection scores to see if yelp information might be able to provide us information related to health inspection scores. I merged the health inspection datasets and yelp dataset and took the most recent health inspection inforamtion to be able to look at the yelp scores side to side with the health inspection scores. Next, I plotted the relationship between yelp scores and health inspection scores and yelp reviews counts and health inspection scores. Finally, I created a best fit line using linear regression to better visualize their correlation. Based on the results, I found there to be a negative correlation between yelp score and inspection score and a negative correlation between yelp review count and inspection score for restaurants in North Carolina, showing one part of my hypothesis to be incorrect and the other correct. I thought that a higher inspection score would correlate with a higher yelp rating, but the data showed that lower yelp ratings were correlated with a higher inspection score. But I correctly predicted that restaurants with a higher quantity of yelp reviews would have a lower inspection score. \n",
    "\n",
    "There were several limitations to this project. First the use of a simple linear regression model may not have been the best approach to analyzing the data. Given more time I would have liked to explore other models that better account for other variables. Another limitation was that health inspection scores may not be the best indication of a restaurant's cleanliness. A majority of restaurants are given an A rating, so there is little variation in restaurants' inspection score. Another limitation is the dataset. Because the dataset was provided for me, I have a limited understanding of it. For example, I did not understand all of the column headers' meaning. As a result, I may have overlooked data points that would have been helpful for answering my research question. Another limitation to the project in regards to the dataset was the use of outdated information. The inspection dates only went up to 2016 and there is no date attached to the yelp data, so the yelp ratings may not have been entirely reflective of the inspection scores. There are most likely many restaurants in NC excluded entirely from the dataset due to the lack of recent data. Another limitation is that the data only included restaurants in North Carolina, so the results could not be applied nationally. It could only be used to represent restaurants in North Carolina.   \n",
    "\n",
    "This project may help to provide further insight into the relationship between health inspections and online reviews. It could help inform state and local officials concerned with improving health inspecions that how data from online restaurant reviews might provide valuable information related to a restaurants' sanitary conditions. "
   ]
  }
 ],
 "metadata": {
  "kernelspec": {
   "display_name": "Python 3",
   "language": "python",
   "name": "python3"
  },
  "language_info": {
   "codemirror_mode": {
    "name": "ipython",
    "version": 3
   },
   "file_extension": ".py",
   "mimetype": "text/x-python",
   "name": "python",
   "nbconvert_exporter": "python",
   "pygments_lexer": "ipython3",
   "version": "3.7.4"
  }
 },
 "nbformat": 4,
 "nbformat_minor": 2
}
